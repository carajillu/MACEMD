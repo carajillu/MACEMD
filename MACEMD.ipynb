{
  "nbformat": 4,
  "nbformat_minor": 0,
  "metadata": {
    "colab": {
      "provenance": [],
      "authorship_tag": "ABX9TyPG41M6HN0ki9yjIOhHVKNv",
      "include_colab_link": true
    },
    "kernelspec": {
      "name": "python3",
      "display_name": "Python 3"
    },
    "language_info": {
      "name": "python"
    }
  },
  "cells": [
    {
      "cell_type": "markdown",
      "metadata": {
        "id": "view-in-github",
        "colab_type": "text"
      },
      "source": [
        "<a href=\"https://colab.research.google.com/github/carajillu/MACEMD/blob/master/MACEMD.ipynb\" target=\"_parent\"><img src=\"https://colab.research.google.com/assets/colab-badge.svg\" alt=\"Open In Colab\"/></a>"
      ]
    },
    {
      "cell_type": "code",
      "execution_count": null,
      "metadata": {
        "id": "-NyzLrO17qTW"
      },
      "outputs": [],
      "source": [
        "#install dependencies"
      ]
    },
    {
      "cell_type": "code",
      "source": [
        "#load initial structures"
      ],
      "metadata": {
        "id": "YYtyMVY57wGV"
      },
      "execution_count": null,
      "outputs": []
    },
    {
      "cell_type": "code",
      "source": [
        "#load initial model (calculator)"
      ],
      "metadata": {
        "id": "njjGM7Y877Bx"
      },
      "execution_count": null,
      "outputs": []
    },
    {
      "cell_type": "code",
      "source": [
        "#load dynamics object"
      ],
      "metadata": {
        "id": "qdKo29UQ8ZTb"
      },
      "execution_count": null,
      "outputs": []
    },
    {
      "cell_type": "code",
      "source": [
        "#Add custom functions to dyamics\n",
        "#print snapshots\n",
        "#run ab initio\n",
        "#print logs"
      ],
      "metadata": {
        "id": "3fW8Pf8c8o0Y"
      },
      "execution_count": null,
      "outputs": []
    },
    {
      "cell_type": "code",
      "source": [
        "#Plumed input: for the CVs we'll use to monitor the reaction"
      ],
      "metadata": {
        "id": "AXGpeon98xh7"
      },
      "execution_count": null,
      "outputs": []
    },
    {
      "cell_type": "code",
      "source": [
        "#Run dynamics"
      ],
      "metadata": {
        "id": "ZkrLH_58AiBL"
      },
      "execution_count": null,
      "outputs": []
    },
    {
      "cell_type": "code",
      "source": [
        "#Switching functions and equilibrium constant"
      ],
      "metadata": {
        "id": "KiZeGqoABUN8"
      },
      "execution_count": null,
      "outputs": []
    },
    {
      "cell_type": "code",
      "source": [
        "#MACE parameters\n",
        "#refine model"
      ],
      "metadata": {
        "id": "pGNI3rl5Am0p"
      },
      "execution_count": null,
      "outputs": []
    },
    {
      "cell_type": "code",
      "source": [
        "#select restart"
      ],
      "metadata": {
        "id": "qs2fhOtWBmzW"
      },
      "execution_count": null,
      "outputs": []
    },
    {
      "cell_type": "code",
      "source": [
        "#load calaculator with new model"
      ],
      "metadata": {
        "id": "-A-qrlFCBKTj"
      },
      "execution_count": null,
      "outputs": []
    }
  ]
}